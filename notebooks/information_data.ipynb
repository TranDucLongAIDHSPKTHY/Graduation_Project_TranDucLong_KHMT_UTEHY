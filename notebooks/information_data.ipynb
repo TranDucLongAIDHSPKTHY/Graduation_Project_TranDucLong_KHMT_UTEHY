{
 "cells": [
  {
   "cell_type": "code",
   "execution_count": 4,
   "id": "c746db3f",
   "metadata": {},
   "outputs": [
    {
     "name": "stdout",
     "output_type": "stream",
     "text": [
      "Tổng số movieId duy nhất trong test_common.csv: 23376\n",
      "Tổng số movieId trong movie_id_map.pkl: 24937\n",
      "Tất cả movieId trong test_common.csv đều có trong movie_id_map.pkl!\n",
      "Số movieId trong movie_id_map.pkl không xuất hiện trong test_common.csv: 1561\n"
     ]
    }
   ],
   "source": [
    "import pandas as pd\n",
    "import pickle\n",
    "\n",
    "# Load dữ liệu\n",
    "test_df = pd.read_csv(r\"E:\\ĐATN_Test\\data\\test_common.csv\")\n",
    "with open(r\"E:\\ĐATN_Test\\save_model\\movie_id_map.pkl\", \"rb\") as f:\n",
    "    movie_id_map = pickle.load(f)\n",
    "\n",
    "# Lấy danh sách movieId duy nhất từ test_common.csv\n",
    "test_movie_ids = set(test_df['movieId'].unique())\n",
    "\n",
    "# Lấy danh sách movieId từ movie_id_map.pkl\n",
    "map_movie_ids = set(movie_id_map.keys())\n",
    "\n",
    "# Kiểm tra khớp nối\n",
    "missing_ids = test_movie_ids - map_movie_ids  # Các movieId trong test nhưng không có trong map\n",
    "extra_ids = map_movie_ids - test_movie_ids    # Các movieId trong map nhưng không có trong test\n",
    "\n",
    "# In kết quả\n",
    "print(f\"Tổng số movieId duy nhất trong test_common.csv: {len(test_movie_ids)}\")\n",
    "print(f\"Tổng số movieId trong movie_id_map.pkl: {len(map_movie_ids)}\")\n",
    "if missing_ids:\n",
    "    print(f\"Các movieId trong test_common.csv không có trong movie_id_map.pkl: {missing_ids}\")\n",
    "    print(f\"Số lượng: {len(missing_ids)}\")\n",
    "else:\n",
    "    print(\"Tất cả movieId trong test_common.csv đều có trong movie_id_map.pkl!\")\n",
    "if extra_ids:\n",
    "    print(f\"Số movieId trong movie_id_map.pkl không xuất hiện trong test_common.csv: {len(extra_ids)}\")\n",
    "else:\n",
    "    print(\"Tất cả movieId trong movie_id_map.pkl đều xuất hiện trong test_common.csv!\")"
   ]
  },
  {
   "cell_type": "code",
   "execution_count": 8,
   "id": "1cfcdbda",
   "metadata": {},
   "outputs": [
    {
     "name": "stdout",
     "output_type": "stream",
     "text": [
      "MovieID 159817: Có trong test_common.csv, Ratings: [5.  5.  5.  4.  4.5 4.  5.  5.  5.  4.  5.  4.5 4.5 3.  3.  4.  4.5 5.\n",
      " 4.5 4.  5.  4.5 4.  5.  3.  4.5 4.5 5.  4.5 4.  4.  5. ], Mean Rating: 4.4219\n",
      "MovieID 170705: Có trong test_common.csv, Ratings: [4.  4.5 5.  5.  5.  4.5 5.  4.  4.  4.5 3.5 5.  4.  4.5 4.5 3.  5.  5.\n",
      " 3.  5.  5.  5.  5.  5.  4.5 5.  5.  5.  5.  4.5 2.5 4.5 4.5 4.  5.  4.5\n",
      " 4.  5.  5.  4.5 5. ], Mean Rating: 4.5244\n",
      "MovieID 171011: Có trong test_common.csv, Ratings: [5.  4.5 5.  4.5 4.5 5.  5.  5.  5.  5.  4.  4.  5.  5.  4.5 3.  4.  5.\n",
      " 5.  4.5 4.5 4.  5.  5.  5.  5.  5.  5.  4.5 5.  5.  5.  3.  0.5 4.5 5.\n",
      " 5.  5. ], Mean Rating: 4.5658\n",
      "MovieID 2019: Có trong test_common.csv, Ratings: [5.  5.  4.  5.  5.  4.  5.  5.  0.5 4.  5.  5.  4.  5.  4.  3.5 5.  4.\n",
      " 5.  4.  5. ], Mean Rating: 4.3810\n",
      "MovieID 159819: Có trong test_common.csv, Ratings: [4.5 4.  3.5 4.5 4.  4.  4.  5.  4.  3.  4.  4.  1.  4.  2.  5.  4.  4.5\n",
      " 4.5 3.5 4.  3.  5.  3.5 4.  4.  4.5 4.5 4.  5.  2.5 4.  4. ], Mean Rating: 3.9091\n",
      "MovieID 142115: Có trong test_common.csv, Ratings: [3.  5.  5.  4.5 4.5 3.  4.5 4.5 4.  4.5 4.  5.  4.5 4.  3.  4.5 4.5 3.5\n",
      " 4.  1.  4.  2.5 5.  4. ], Mean Rating: 4.0000\n",
      "MovieID 163809: Có trong test_common.csv, Ratings: [4.  5.  5.  3.5 3.5 5.  4.  5.  4.5 4.5 4.  3.5 4.5 5.  3.5 4.  5.  4.\n",
      " 4.5 4.  2.  5.  4.5 4.5 5.  3.5 4.5 5.  4.  4.5 2.  4.  4.  4.5 3.  5. ], Mean Rating: 4.1944\n",
      "MovieID 318: Có trong test_common.csv, Ratings: [5.  5.  3.  5.  3.5 4.  5.  1.  4.5 5.  4.  4.5 5.  5.  2.  5.  5.  4. ], Mean Rating: 4.1944\n",
      "MovieID 1284: Có trong test_common.csv, Ratings: [4.  4.  5.  5.  4.  5.  3.  3.  5.  4.  4.5 4.  4.  5.  3.5 2.  4.  4.\n",
      " 3.  5.  5.  4.  4.5 3.  4.5 5. ], Mean Rating: 4.1154\n",
      "MovieID 296: Có trong test_common.csv, Ratings: [4.  4.  5.  5.  4.  5.  3.5 5.  5.  4.5 5.  4.5 4.  3. ], Mean Rating: 4.3929\n"
     ]
    }
   ],
   "source": [
    "import pandas as pd\n",
    "\n",
    "# Top-10 movieId từ autoencoder.py\n",
    "top_10_ids = [159817, 170705, 171011, 2019, 159819, 142115, 163809, 318, 1284, 296]\n",
    "\n",
    "# Load test_common.csv\n",
    "test_df = pd.read_csv(r\"E:\\ĐATN_Test\\data\\test_common.csv\")\n",
    "\n",
    "# Kiểm tra movieId\n",
    "for movie_id in top_10_ids:\n",
    "    movie_data = test_df[test_df['movieId'] == movie_id]\n",
    "    if movie_data.empty:\n",
    "        print(f\"MovieID {movie_id}: Không có trong test_common.csv\")\n",
    "    else:\n",
    "        ratings = movie_data['rating'].values\n",
    "        mean_rating = ratings.mean() if len(ratings) > 0 else 0\n",
    "        print(f\"MovieID {movie_id}: Có trong test_common.csv, Ratings: {ratings}, Mean Rating: {mean_rating:.4f}\")"
   ]
  },
  {
   "cell_type": "code",
   "execution_count": 10,
   "id": "0f12a3d1",
   "metadata": {},
   "outputs": [
    {
     "name": "stdout",
     "output_type": "stream",
     "text": [
      "MovieID 159817: Không có rating thực tế\n",
      "MovieID 170705: Không có rating thực tế\n",
      "MovieID 171011: Không có rating thực tế\n",
      "MovieID 2019: Không có rating thực tế\n",
      "MovieID 159819: Không có rating thực tế\n",
      "MovieID 142115: Không có rating thực tế\n",
      "MovieID 163809: Không có rating thực tế\n",
      "MovieID 318: Không có rating thực tế\n",
      "MovieID 1284: Không có rating thực tế\n",
      "MovieID 296: Không có rating thực tế\n"
     ]
    }
   ],
   "source": [
    "import pandas as pd\n",
    "test_df = pd.read_csv(r\"E:\\ĐATN_Test\\data\\test_common.csv\")\n",
    "top_10_ids = [159817, 170705, 171011, 2019, 159819, 142115, 163809, 318, 1284, 296]\n",
    "for movie_id in top_10_ids:\n",
    "    movie_data = test_df[(test_df['userId'] == 93734) & (test_df['movieId'] == movie_id)]\n",
    "    if movie_data.empty:\n",
    "        print(f\"MovieID {movie_id}: Không có rating thực tế\")\n",
    "    else:\n",
    "        rating = movie_data['rating'].values[0]\n",
    "        print(f\"MovieID {movie_id}: Rating thực tế = {rating:.4f}\")"
   ]
  },
  {
   "cell_type": "code",
   "execution_count": 11,
   "id": "79c53f6e",
   "metadata": {},
   "outputs": [
    {
     "name": "stdout",
     "output_type": "stream",
     "text": [
      "User 93734: Số rating = 7\n",
      "Phim relevant (rating >= 3.5): [1171, 2359, 1413]\n"
     ]
    }
   ],
   "source": [
    "import pandas as pd\n",
    "test_df = pd.read_csv(r\"E:\\ĐATN_Test\\data\\test_common.csv\")\n",
    "user_data = test_df[test_df['userId'] == 93734]\n",
    "print(f\"User 93734: Số rating = {len(user_data)}\")\n",
    "print(f\"Phim relevant (rating >= 3.5): {user_data[user_data['rating'] >= 3.5]['movieId'].tolist()}\")"
   ]
  },
  {
   "cell_type": "code",
   "execution_count": 7,
   "id": "2915aa63",
   "metadata": {},
   "outputs": [
    {
     "name": "stdout",
     "output_type": "stream",
     "text": [
      "Phân bố rating trong test_common.csv:\n",
      "rating\n",
      "4.0    0.230225\n",
      "3.0    0.203246\n",
      "3.5    0.152941\n",
      "5.0    0.089223\n",
      "2.0    0.082922\n",
      "4.5    0.076309\n",
      "2.5    0.069963\n",
      "1.0    0.045297\n",
      "0.5    0.026965\n",
      "1.5    0.022909\n",
      "Name: proportion, dtype: float64\n",
      "Phân bố rating trong train_dl.csv:\n",
      "rating\n",
      "4.0    0.229916\n",
      "3.0    0.202955\n",
      "3.5    0.152902\n",
      "5.0    0.089543\n",
      "2.0    0.082511\n",
      "4.5    0.076585\n",
      "2.5    0.070023\n",
      "1.0    0.045117\n",
      "0.5    0.027317\n",
      "1.5    0.023133\n",
      "Name: proportion, dtype: float64\n"
     ]
    }
   ],
   "source": [
    "import pandas as pd\n",
    "test_df = pd.read_csv(r\"E:\\ĐATN_Test\\data\\test_common.csv\")\n",
    "print(\"Phân bố rating trong test_common.csv:\")\n",
    "print(test_df['rating'].value_counts(normalize=True))\n",
    "train_df = pd.read_csv(r\"E:\\ĐATN_Test\\data\\train_dl.csv\")\n",
    "print(\"Phân bố rating trong train_dl.csv:\")\n",
    "print(train_df['rating'].value_counts(normalize=True))"
   ]
  }
 ],
 "metadata": {
  "kernelspec": {
   "display_name": "venv",
   "language": "python",
   "name": "python3"
  },
  "language_info": {
   "codemirror_mode": {
    "name": "ipython",
    "version": 3
   },
   "file_extension": ".py",
   "mimetype": "text/x-python",
   "name": "python",
   "nbconvert_exporter": "python",
   "pygments_lexer": "ipython3",
   "version": "3.11.9"
  }
 },
 "nbformat": 4,
 "nbformat_minor": 5
}
